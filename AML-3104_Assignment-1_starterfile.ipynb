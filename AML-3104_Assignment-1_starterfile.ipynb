{
 "cells": [
  {
   "cell_type": "markdown",
   "metadata": {},
   "source": [
    "# AML-3104 Assignment 1\n",
    "### [30 Marks, 20%]"
   ]
  },
  {
   "cell_type": "markdown",
   "metadata": {},
   "source": [
    "## Import libraries"
   ]
  },
  {
   "cell_type": "code",
   "execution_count": 1,
   "metadata": {},
   "outputs": [],
   "source": [
    "import numpy as np\n",
    "import matplotlib.pyplot as plt\n",
    "\n",
    "from sklearn.metrics import accuracy_score\n",
    "\n",
    "from sklearn.preprocessing import StandardScaler\n",
    "\n",
    "from sklearn.decomposition import PCA\n",
    "from sklearn.discriminant_analysis import LinearDiscriminantAnalysis\n",
    "\n",
    "from sklearn.naive_bayes import GaussianNB\n",
    "# You may need some sklearn specific imports, or other standard toolboxes"
   ]
  },
  {
   "cell_type": "markdown",
   "metadata": {},
   "source": [
    "## Load dataset"
   ]
  },
  {
   "cell_type": "code",
   "execution_count": 3,
   "metadata": {},
   "outputs": [
    {
     "data": {
      "text/plain": [
       "array([[ 70.,  80.,  82., ...,   0.,   0.,   0.],\n",
       "       [151., 150., 147., ...,   0.,   0.,   0.],\n",
       "       [231., 212., 156., ...,   0.,   0.,   0.],\n",
       "       ...,\n",
       "       [ 74.,  81.,  87., ...,   1.,   0.,   0.],\n",
       "       [222., 227., 203., ...,   0.,   0.,   0.],\n",
       "       [195., 199., 205., ...,   1.,   0.,   0.]])"
      ]
     },
     "execution_count": 3,
     "metadata": {},
     "output_type": "execute_result"
    }
   ],
   "source": [
    "trainingset = np.loadtxt('dataset/training.csv', delimiter=',')\n",
    "testingset = np.loadtxt('dataset/test.csv', delimiter=',')\n",
    "\n",
    "trainingset"
   ]
  },
  {
   "cell_type": "markdown",
   "metadata": {},
   "source": [
    "## Split data"
   ]
  },
  {
   "cell_type": "code",
   "execution_count": 4,
   "metadata": {},
   "outputs": [],
   "source": [
    "n_inputs = 2304 # images are 48 x 48\n",
    "n_classes = 7 # 7 classes - as defined below\n",
    "img_dim = 48 # each input image dimension, width and height are both 48\n",
    "\n",
    "x_training = trainingset[:, 0:n_inputs] # Extract the first 2304 elements - the image\n",
    "y_training = trainingset[:, n_inputs:n_inputs + n_classes] # Extract the last 7 elements - a one hot category encoding\n",
    "\n",
    "x_testing = testingset[:, 0:n_inputs] # Extract the first 2304 elements - the image\n",
    "y_testing = testingset[:, n_inputs:n_inputs + n_classes] # Extract the last 7 elements - a one hot category encoding\n",
    "\n",
    "x_training = x_training.reshape(x_training.shape[0], 48, 48) # Make samples image shaped\n",
    "x_testing = x_testing.reshape(x_testing.shape[0], 48, 48) # Make samples image shaped"
   ]
  },
  {
   "cell_type": "code",
   "execution_count": 5,
   "metadata": {},
   "outputs": [],
   "source": [
    "def get_emotion(whichemotion):\n",
    "    if whichemotion.shape[0] == 1:\n",
    "        indx = whichemotion[0]\n",
    "    else:\n",
    "        indx = np.argmax(whichemotion)\n",
    "    if indx == 0:\n",
    "        return 'angry'\n",
    "    elif indx == 1:\n",
    "        return 'disgust'\n",
    "    elif indx == 2:\n",
    "        return 'fear'\n",
    "    elif indx == 3:\n",
    "        return 'happy'\n",
    "    elif indx == 4:\n",
    "        return 'sad'\n",
    "    elif indx == 5:\n",
    "        return 'surprise'\n",
    "    elif indx == 6:\n",
    "        return 'neutral'"
   ]
  },
  {
   "cell_type": "code",
   "execution_count": 6,
   "metadata": {},
   "outputs": [
    {
     "name": "stdout",
     "output_type": "stream",
     "text": [
      "(28709, 48, 48)\n",
      "(28709, 7)\n",
      "(3589, 48, 48)\n",
      "(3589, 7)\n"
     ]
    },
    {
     "data": {
      "image/png": "[encoded data removed]",
      "text/plain": [
       "<Figure size 432x288 with 1 Axes>"
      ]
     },
     "metadata": {
      "needs_background": "light"
     },
     "output_type": "display_data"
    },
    {
     "name": "stdout",
     "output_type": "stream",
     "text": [
      "facial emotion: angry\n"
     ]
    }
   ],
   "source": [
    "print(x_training.shape)\n",
    "print(y_training.shape)\n",
    "\n",
    "print(x_testing.shape)\n",
    "print(y_testing.shape)\n",
    "\n",
    "sampleindex = np.random.randint(0,1000)\n",
    "sample = x_training[sampleindex, :]\n",
    "sample = sample.reshape(48, 48)\n",
    "\n",
    "plt.imshow(sample, cmap='gray')\n",
    "plt.show()\n",
    "print('facial emotion: %s' % get_emotion(y_training[sampleindex, :]))"
   ]
  },
  {
   "cell_type": "markdown",
   "metadata": {},
   "source": [
    "# Part I : Happy or Sad\n",
    "\n",
    "## For this part you will consider a binary classification problem - categorizing faces as happy or sad"
   ]
  },
  {
   "cell_type": "markdown",
   "metadata": {
    "collapsed": true
   },
   "source": [
    "[1 Mark] a. Sample from the data loaded above to include only the happy or sad cases"
   ]
  },
  {
   "cell_type": "code",
   "execution_count": 7,
   "metadata": {},
   "outputs": [],
   "source": [
    "happy_sad_indices_training = np.where(np.logical_or(y_training[:, 3] == 1, y_training[:, 4] == 1))[0]\n",
    "happy_sad_indices_testing = np.where(np.logical_or(y_testing[:, 3] == 1, y_testing[:, 4] == 1))[0]"
   ]
  },
  {
   "cell_type": "code",
   "execution_count": 8,
   "metadata": {},
   "outputs": [],
   "source": [
    "hs_x_training = x_training[happy_sad_indices_training, :]\n",
    "hs_y_training = y_training[happy_sad_indices_training, :]\n",
    "hs_x_testing = x_testing[happy_sad_indices_testing, :]\n",
    "hs_y_testing = y_testing[happy_sad_indices_testing, :]"
   ]
  },
  {
   "cell_type": "code",
   "execution_count": 9,
   "metadata": {},
   "outputs": [
    {
     "name": "stdout",
     "output_type": "stream",
     "text": [
      "(1548, 48, 48) (1548, 7) (12045, 48, 48) (12045, 7)\n"
     ]
    }
   ],
   "source": [
    "print(hs_x_testing.shape, hs_y_testing.shape, hs_x_training.shape, hs_y_training.shape)"
   ]
  },
  {
   "cell_type": "code",
   "execution_count": 10,
   "metadata": {},
   "outputs": [
    {
     "data": {
      "image/png": "[encoded data removed]",
      "text/plain": [
       "<Figure size 432x288 with 1 Axes>"
      ]
     },
     "metadata": {
      "needs_background": "light"
     },
     "output_type": "display_data"
    },
    {
     "name": "stdout",
     "output_type": "stream",
     "text": [
      "facial emotion: sad\n"
     ]
    }
   ],
   "source": [
    "sampleindex = np.random.randint(0, hs_x_training.shape[0])\n",
    "sample = hs_x_training[sampleindex, :]\n",
    "sample = sample.reshape(48, 48)\n",
    "\n",
    "plt.imshow(sample, cmap='gray')\n",
    "plt.show()\n",
    "print('facial emotion: %s' % get_emotion(hs_y_training[sampleindex, :]))"
   ]
  },
  {
   "cell_type": "markdown",
   "metadata": {
    "collapsed": true
   },
   "source": [
    "[4 Marks] b. Apply PCA and LDA to represent the faces, display a sample of a few faces for each case. You may consider using one or both of these in the steps that follow if they are of any value (this is for you to decide)."
   ]
  },
  {
   "cell_type": "code",
   "execution_count": 11,
   "metadata": {},
   "outputs": [],
   "source": [
    "# flatten the images\n",
    "flatten_hs_x_training = np.array([img.flatten() for img in hs_x_training])\n",
    "flatten_hs_x_testing = np.array([img.flatten() for img in hs_x_testing])"
   ]
  },
  {
   "cell_type": "code",
   "execution_count": 25,
   "metadata": {},
   "outputs": [
    {
     "data": {
      "text/plain": [
       "(12045, 2304)"
      ]
     },
     "execution_count": 25,
     "metadata": {},
     "output_type": "execute_result"
    }
   ],
   "source": [
    "flatten_hs_x_training.shape"
   ]
  },
  {
   "cell_type": "code",
   "execution_count": 12,
   "metadata": {},
   "outputs": [],
   "source": [
    "pca = PCA(n_components=2)"
   ]
  },
  {
   "cell_type": "code",
   "execution_count": 13,
   "metadata": {},
   "outputs": [
    {
     "data": {
      "text/plain": [
       "(12045, 2)"
      ]
     },
     "execution_count": 13,
     "metadata": {},
     "output_type": "execute_result"
    }
   ],
   "source": [
    "pca_hs_training = pca.fit_transform(flatten_hs_x_training)\n",
    "pca_hs_training.shape"
   ]
  },
  {
   "attachments": {},
   "cell_type": "markdown",
   "metadata": {},
   "source": [
    "Let's scale the resulting features"
   ]
  },
  {
   "cell_type": "code",
   "execution_count": 14,
   "metadata": {},
   "outputs": [],
   "source": [
    "scaler = StandardScaler()"
   ]
  },
  {
   "cell_type": "code",
   "execution_count": 15,
   "metadata": {},
   "outputs": [],
   "source": [
    "scaled_pca_hs_training = scaler.fit_transform(pca_hs_training)\n"
   ]
  },
  {
   "cell_type": "code",
   "execution_count": 16,
   "metadata": {},
   "outputs": [
    {
     "name": "stdout",
     "output_type": "stream",
     "text": [
      "(200, 2) (200, 7)\n"
     ]
    }
   ],
   "source": [
    "#let's get a sample of 200 images along with their label\n",
    "n_samples = 200\n",
    "features = []\n",
    "labels = []\n",
    "for i in range(n_samples):\n",
    "    sampleindex = np.random.randint(0, scaled_pca_hs_training.shape[0])\n",
    "    sample = scaled_pca_hs_training[sampleindex, :]\n",
    "    label = hs_y_training[sampleindex, :]\n",
    "    features.append(sample)\n",
    "    labels.append(label)\n",
    "features = np.array(features)\n",
    "labels = np.array(labels)\n",
    "print(features.shape, labels.shape)"
   ]
  },
  {
   "cell_type": "code",
   "execution_count": 17,
   "metadata": {},
   "outputs": [],
   "source": [
    "happy = labels[:, 3]"
   ]
  },
  {
   "cell_type": "code",
   "execution_count": 18,
   "metadata": {},
   "outputs": [
    {
     "data": {
      "image/png": "[encoded data removed]",
      "text/plain": [
       "<Figure size 432x288 with 1 Axes>"
      ]
     },
     "metadata": {
      "needs_background": "light"
     },
     "output_type": "display_data"
    }
   ],
   "source": [
    "# Create a scatter plot with different colors for each label\n",
    "scatter = plt.scatter(features[:, 0], features[:, 1], c=happy)\n",
    "\n",
    "# Set the x and y axis labels\n",
    "plt.xlabel('Feature 1')\n",
    "plt.ylabel('Feature 2')\n",
    "\n",
    "# Add legend to the plot\n",
    "plt.legend(handles=scatter.legend_elements()[0], labels=['Happy', 'Sad'])\n",
    "\n",
    "# Show the plot\n",
    "plt.show()"
   ]
  },
  {
   "attachments": {},
   "cell_type": "markdown",
   "metadata": {},
   "source": [
    "From the plot above, PCA seems to perform poorly when it comes to maintaining a separation between the Happy and Sad labels, since there are no identifiable different clusters."
   ]
  },
  {
   "attachments": {},
   "cell_type": "markdown",
   "metadata": {},
   "source": [
    "Now let's apply LDA and reduce the dimensionality to 1, since there are only two classes (happy and sad), that's the only possibility for LDA. Let's check either way if it will result in a clear separation between the classes."
   ]
  },
  {
   "cell_type": "code",
   "execution_count": 19,
   "metadata": {},
   "outputs": [],
   "source": [
    "lda = LinearDiscriminantAnalysis(n_components=1)"
   ]
  },
  {
   "cell_type": "code",
   "execution_count": 20,
   "metadata": {},
   "outputs": [
    {
     "name": "stdout",
     "output_type": "stream",
     "text": [
      "(12045, 1)\n"
     ]
    }
   ],
   "source": [
    "X_lda = lda.fit_transform(flatten_hs_x_training, hs_y_training[:, 3])\n",
    "print(X_lda.shape)"
   ]
  },
  {
   "cell_type": "code",
   "execution_count": 21,
   "metadata": {},
   "outputs": [
    {
     "name": "stdout",
     "output_type": "stream",
     "text": [
      "(200, 1) (200, 7)\n"
     ]
    }
   ],
   "source": [
    "#let's get a sample of 200 images along with their label\n",
    "n_samples = 200\n",
    "features = []\n",
    "labels = []\n",
    "for i in range(n_samples):\n",
    "    sampleindex = np.random.randint(0, X_lda.shape[0])\n",
    "    sample = X_lda[sampleindex, :]\n",
    "    label = hs_y_training[sampleindex, :]\n",
    "    features.append(sample)\n",
    "    labels.append(label)\n",
    "features = np.array(features)\n",
    "labels = np.array(labels)\n",
    "print(features.shape, labels.shape)"
   ]
  },
  {
   "cell_type": "code",
   "execution_count": 24,
   "metadata": {},
   "outputs": [
    {
     "data": {
      "image/png": "[encoded data removed]",
      "text/plain": [
       "<Figure size 432x288 with 1 Axes>"
      ]
     },
     "metadata": {
      "needs_background": "light"
     },
     "output_type": "display_data"
    }
   ],
   "source": [
    "# Create a scatter plot with different colors for each label\n",
    "scatter = plt.scatter(features[:, 0], np.zeros_like(features[:, 0]),  c=happy)\n",
    "\n",
    "# Set the x and y axis labels\n",
    "plt.xlabel('Feature 1')\n",
    "plt.ylabel('Feature 2')\n",
    "\n",
    "# Add legend to the plot\n",
    "plt.legend(handles=scatter.legend_elements()[0], labels=['Happy', 'Sad'])\n",
    "\n",
    "# Show the plot\n",
    "plt.show()"
   ]
  },
  {
   "attachments": {},
   "cell_type": "markdown",
   "metadata": {},
   "source": [
    "From the scatterplot above LDA also seems unable to separate between the classes efficiently."
   ]
  },
  {
   "cell_type": "markdown",
   "metadata": {
    "collapsed": true
   },
   "source": [
    "[2 Marks] c. Apply naive Bayes to classify faces as happy or sad. Report your accuracy."
   ]
  },
  {
   "attachments": {},
   "cell_type": "markdown",
   "metadata": {},
   "source": [
    "Since LDA with one component doesn't seem ideal, we'll explore PCA with different number of features and using no PCA at all."
   ]
  },
  {
   "cell_type": "code",
   "execution_count": null,
   "metadata": {},
   "outputs": [],
   "source": [
    "hs_y_training_label = hs_y_training[:, 3]\n",
    "hs_y_testing_label = hs_y_testing[:, 3]"
   ]
  },
  {
   "attachments": {},
   "cell_type": "markdown",
   "metadata": {},
   "source": [
    "Let's start with no dimensionality reduction at all."
   ]
  },
  {
   "cell_type": "code",
   "execution_count": 100,
   "metadata": {},
   "outputs": [],
   "source": [
    "gnb = GaussianNB()\n",
    "gnb.fit(flatten_hs_x_training, hs_y_training_label)\n",
    "\n",
    "y_pred = gnb.predict(flatten_hs_x_testing)\n",
    "accuracy = accuracy_score(hs_y_testing_label, y_pred)"
   ]
  },
  {
   "cell_type": "code",
   "execution_count": 101,
   "metadata": {},
   "outputs": [
    {
     "data": {
      "text/plain": [
       "0.5904392764857881"
      ]
     },
     "execution_count": 101,
     "metadata": {},
     "output_type": "execute_result"
    }
   ],
   "source": [
    "accuracy"
   ]
  },
  {
   "cell_type": "code",
   "execution_count": 83,
   "metadata": {},
   "outputs": [],
   "source": [
    "pctgs = [.1, .15, .3, .4, .5]\n",
    "n_components = [int(pctg * flatten_hs_x_training.shape[1]) for pctg in pctgs]\n"
   ]
  },
  {
   "cell_type": "code",
   "execution_count": 102,
   "metadata": {},
   "outputs": [],
   "source": [
    "accuracies = [accuracy]"
   ]
  },
  {
   "cell_type": "code",
   "execution_count": 103,
   "metadata": {},
   "outputs": [],
   "source": [
    "for n in n_components:\n",
    "    pca = PCA(n_components=n)\n",
    "    new_pca_hs_x_training = pca.fit_transform(flatten_hs_x_training)\n",
    "    new_pca_hs_x_testing = pca.transform(flatten_hs_x_testing)\n",
    "\n",
    "    scaled_new_pca_hs_x_training = scaler.fit_transform(new_pca_hs_x_training)\n",
    "    scaled_new_pca_hs_x_testing = scaler.transform(new_pca_hs_x_testing)\n",
    "\n",
    "    gnb = GaussianNB()\n",
    "    gnb.fit(scaled_new_pca_hs_x_training, hs_y_training_label)\n",
    "\n",
    "    y_pred = gnb.predict(scaled_new_pca_hs_x_testing)\n",
    "    accuracy = accuracy_score(hs_y_testing_label, y_pred)\n",
    "    accuracies.append(accuracy)"
   ]
  },
  {
   "attachments": {},
   "cell_type": "markdown",
   "metadata": {},
   "source": [
    "Let's examine the obtained accuracies for each training set."
   ]
  },
  {
   "cell_type": "code",
   "execution_count": 104,
   "metadata": {},
   "outputs": [],
   "source": [
    "training_sets = [('PCA_'+str(pctg)) for pctg in pctgs]\n",
    "training_sets.insert(0, 'NoPCA')"
   ]
  },
  {
   "cell_type": "code",
   "execution_count": 105,
   "metadata": {},
   "outputs": [
    {
     "name": "stdout",
     "output_type": "stream",
     "text": [
      "Training Set      Accuracy\n",
      "--------------  ----------\n",
      "NoPCA             0.590439\n",
      "PCA_0.1           0.580749\n",
      "PCA_0.15          0.578811\n",
      "PCA_0.3           0.55814\n",
      "PCA_0.4           0.556202\n",
      "PCA_0.5           0.55168\n"
     ]
    }
   ],
   "source": [
    "from tabulate import tabulate\n",
    "# Zip the lists together to create a list of tuples\n",
    "data = list(zip(training_sets, accuracies))\n",
    "\n",
    "# Define the headers for the table\n",
    "headers = [\"Training Set\", \"Accuracy\"]\n",
    "\n",
    "# Print the table\n",
    "print(tabulate(data, headers=headers))"
   ]
  },
  {
   "attachments": {},
   "cell_type": "markdown",
   "metadata": {},
   "source": [
    "As seen in the table above, applying no Dimensionality Reduction (DR) seems to achieve the highest accuracy. So from now on we'll just consider the training set with no DR."
   ]
  },
  {
   "cell_type": "markdown",
   "metadata": {
    "collapsed": true
   },
   "source": [
    "[2 Marks] d. Apply Logistic regression to classify faces as happy or sad. Report the accuracy."
   ]
  },
  {
   "cell_type": "code",
   "execution_count": 70,
   "metadata": {},
   "outputs": [],
   "source": [
    "# YOUR CODE HERE"
   ]
  },
  {
   "cell_type": "markdown",
   "metadata": {
    "collapsed": true
   },
   "source": [
    "[2 Marks] e. Apply a Support Vector Machine to classify the faces as happy or sad. Choose parameters / arguments to try to maximize your accuracy. Report the accuracy."
   ]
  },
  {
   "cell_type": "code",
   "execution_count": 71,
   "metadata": {},
   "outputs": [],
   "source": [
    "# YOUR CODE HERE"
   ]
  },
  {
   "cell_type": "markdown",
   "metadata": {},
   "source": [
    "[1 Mark] f. Which of the approaches above allow you to reliably determine the degree of happiness or sadness (i.e. how happy or how sad)? Which do you trust the most?"
   ]
  },
  {
   "cell_type": "markdown",
   "metadata": {},
   "source": [
    "YOUR ANSWER HERE"
   ]
  },
  {
   "cell_type": "markdown",
   "metadata": {},
   "source": [
    "[2 Marks] g. Based on your answer to f. show the 5 happiest faces and the 5 saddest faces."
   ]
  },
  {
   "cell_type": "code",
   "execution_count": 72,
   "metadata": {},
   "outputs": [],
   "source": [
    "# YOUR CODE HERE"
   ]
  },
  {
   "cell_type": "markdown",
   "metadata": {},
   "source": [
    "# Part II : Multi-class"
   ]
  },
  {
   "cell_type": "markdown",
   "metadata": {
    "collapsed": true
   },
   "source": [
    "## For this part you will repeat the tasks in Part I, but instead consider the multi-class problem and classify inputs according to all 7 classes. "
   ]
  },
  {
   "cell_type": "markdown",
   "metadata": {},
   "source": [
    "[4 Marks] a. Apply PCA and LDA to represent the faces, display a sample of a few faces for each case. Produce a plot for PCA showing the cumulative variance captured by adding additional principal components (e.g. 1st PC, 1st + 2nd PC, etc.). On the same figure, plot the same curve for only happy and sad faces used in part 1."
   ]
  },
  {
   "cell_type": "code",
   "execution_count": 73,
   "metadata": {},
   "outputs": [],
   "source": [
    "# YOUR CODE HERE"
   ]
  },
  {
   "cell_type": "markdown",
   "metadata": {},
   "source": [
    "[2 Marks] b. Classify the faces using Naive Bayes and report your accuracy."
   ]
  },
  {
   "cell_type": "code",
   "execution_count": 74,
   "metadata": {},
   "outputs": [],
   "source": [
    "# YOUR CODE HERE"
   ]
  },
  {
   "cell_type": "markdown",
   "metadata": {},
   "source": [
    "Visualize the results of your classifier on the test set using a confusion matrix. Describe briefly how the multi-class nature of the problem is treated by the classifier.\n",
    "DESCRIBE BRIEFLY HERE"
   ]
  },
  {
   "cell_type": "code",
   "execution_count": 75,
   "metadata": {},
   "outputs": [],
   "source": [
    "# YOUR CODE HERE"
   ]
  },
  {
   "cell_type": "markdown",
   "metadata": {},
   "source": [
    "[2 Marks] c. Classify the faces using logistic regression and report your accuracy."
   ]
  },
  {
   "cell_type": "code",
   "execution_count": 76,
   "metadata": {},
   "outputs": [],
   "source": [
    "# YOUR CODE HERE"
   ]
  },
  {
   "cell_type": "markdown",
   "metadata": {},
   "source": [
    "Visualize the results of your classifier on the test set using a confusion matrix. Describe briefly how the multi-class nature of the problem is treated by the classifier.\n",
    "DESCRIBE BRIEFLY HERE"
   ]
  },
  {
   "cell_type": "code",
   "execution_count": 77,
   "metadata": {},
   "outputs": [],
   "source": [
    "# YOUR CODE HERE"
   ]
  },
  {
   "cell_type": "markdown",
   "metadata": {},
   "source": [
    "[2 Marks] d. Classify the faces using a support vector machine and report your accuracy."
   ]
  },
  {
   "cell_type": "code",
   "execution_count": 78,
   "metadata": {},
   "outputs": [],
   "source": [
    "# YOUR CODE HERE"
   ]
  },
  {
   "cell_type": "markdown",
   "metadata": {},
   "source": [
    "Visualize the results of your classifier on the test set using a confusion matrix. Describe briefly how the multi-class nature of the problem is treated by the classifier.\n",
    "DESCRIBE BRIEFLY HERE"
   ]
  },
  {
   "cell_type": "markdown",
   "metadata": {},
   "source": [
    "[2 Marks] e. Which categories of faces seem to be most similar or least similar?\n",
    "EXPLAIN HERE"
   ]
  },
  {
   "cell_type": "markdown",
   "metadata": {},
   "source": [
    "[4 Marks] f. Let's assume that some of the faces were labeled wrong in producing the dataset. Propose and implement a solution that identifies images that are potentially mislabeled. Show 10 samples based on the method you choose."
   ]
  },
  {
   "cell_type": "code",
   "execution_count": 79,
   "metadata": {},
   "outputs": [],
   "source": [
    "# YOUR CODE HERE"
   ]
  },
  {
   "cell_type": "markdown",
   "metadata": {},
   "source": [
    "# Optional"
   ]
  },
  {
   "cell_type": "markdown",
   "metadata": {},
   "source": [
    "From all the classification approaches considered above, choose one to score faces based on a continuous valued prediction of for each of the categories."
   ]
  },
  {
   "cell_type": "markdown",
   "metadata": {},
   "source": [
    "[No Marks] a. Produce a prediction for each face in the test set (this has 7 dimensions). Visualize these based on a 2D embedding of the scores. The \"data points\" plotted in the embedding should show the actual picture of the face, at the corresponding 2D point location. (You could consider using t-SNE for your embedding)"
   ]
  },
  {
   "cell_type": "code",
   "execution_count": 80,
   "metadata": {},
   "outputs": [],
   "source": [
    "# YOUR CODE HERE"
   ]
  },
  {
   "cell_type": "code",
   "execution_count": null,
   "metadata": {},
   "outputs": [],
   "source": []
  }
 ],
 "metadata": {
  "anaconda-cloud": {},
  "kernelspec": {
   "display_name": "Python 3",
   "language": "python",
   "name": "python3"
  },
  "language_info": {
   "codemirror_mode": {
    "name": "ipython",
    "version": 3
   },
   "file_extension": ".py",
   "mimetype": "text/x-python",
   "name": "python",
   "nbconvert_exporter": "python",
   "pygments_lexer": "ipython3",
   "version": "3.9.2"
  },
  "vscode": {
   "interpreter": {
    "hash": "88e51f94f5892b83dfe3a1c709b13950560457a84b5ac705287fb7c8f3349559"
   }
  }
 },
 "nbformat": 4,
 "nbformat_minor": 1
}
